{
 "cells": [
  {
   "cell_type": "code",
   "execution_count": 1,
   "metadata": {},
   "outputs": [],
   "source": [
    "import xml.etree.ElementTree as ET\n",
    "import pandas as pd\n",
    "import requests\n",
    "from bs4 import BeautifulSoup\n",
    "import io\n",
    "import csv"
   ]
  },
  {
   "cell_type": "code",
   "execution_count": 2,
   "metadata": {},
   "outputs": [],
   "source": [
    "headers = {\n",
    "    'User-Agent': 'Mozilla/5.0 (Windows NT 10.0; Win64; x64) AppleWebKit/537.36 (KHTML, like Gecko) Chrome/91.0.4472.124 Safari/537.36'\n",
    "}\n",
    "\n",
    "# Step 1: Fetch the product page\n",
    "product_url = \"https://www.ishares.com/us/products/333011/ishares-bitcoin-trust\"\n",
    "response = requests.get(product_url, headers=headers)"
   ]
  },
  {
   "cell_type": "code",
   "execution_count": 3,
   "metadata": {},
   "outputs": [],
   "source": [
    "soup = BeautifulSoup(response.text, 'html.parser')\n",
    "holdings_link = None\n",
    "\n",
    "# Look for the specific link by class or text\n",
    "for a in soup.find_all('a', href=True):\n",
    "    if 'detailed holdings and analytics' in a.text.lower():\n",
    "        holdings_link = a['href']\n",
    "        break"
   ]
  },
  {
   "cell_type": "code",
   "execution_count": 4,
   "metadata": {},
   "outputs": [],
   "source": [
    "holdings_link = \"https://www.ishares.com\" + holdings_link"
   ]
  },
  {
   "cell_type": "code",
   "execution_count": 5,
   "metadata": {},
   "outputs": [],
   "source": [
    "file_response = requests.get(holdings_link, headers=headers)"
   ]
  },
  {
   "cell_type": "code",
   "execution_count": 8,
   "metadata": {},
   "outputs": [],
   "source": [
    "preamble = file_response.text.splitlines()[:8]\n",
    "shares_outstanding = None\n",
    "for line in csv.reader(preamble):\n",
    "\tif line and \"Shares Outstanding\" in line[0]:\n",
    "\t\tshares_outstanding = line[1].strip('\"')\n",
    "\t\tbreak"
   ]
  },
  {
   "cell_type": "code",
   "execution_count": null,
   "metadata": {},
   "outputs": [],
   "source": [
    "df = pd.read_csv(io.StringIO(file_response.text), skiprows=9)\n",
    "\n",
    "# Extract BTC Held from Quantity column\n",
    "btc_row = df[df['Ticker'] == 'BTC']\n",
    "if not btc_row.empty:\n",
    "\tbtc_held = btc_row['Quantity'].values[0]\n",
    "\tprint(f\"BTC Held: {btc_held}\")\n"
   ]
  }
 ],
 "metadata": {
  "kernelspec": {
   "display_name": "crypto-stock",
   "language": "python",
   "name": "python3"
  },
  "language_info": {
   "codemirror_mode": {
    "name": "ipython",
    "version": 3
   },
   "file_extension": ".py",
   "mimetype": "text/x-python",
   "name": "python",
   "nbconvert_exporter": "python",
   "pygments_lexer": "ipython3",
   "version": "3.9.15"
  }
 },
 "nbformat": 4,
 "nbformat_minor": 2
}
