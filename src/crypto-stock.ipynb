{
 "cells": [
  {
   "cell_type": "code",
   "execution_count": 2,
   "metadata": {},
   "outputs": [],
   "source": [
    "from my import venues"
   ]
  },
  {
   "cell_type": "code",
   "execution_count": null,
   "metadata": {},
   "outputs": [],
   "source": [
    "from dotenv import load_dotenv\n",
    "from pathlib import Path\n",
    "import os\n",
    "\n",
    "# `dotenv` is a package that loads environment variables from a `.env` file into the environment.\n",
    "# It is used to store sensitive information like API keys in a file that is not checked into version control.\n",
    "# The `.env` file is not checked into version control, so it is not included in the repository.\n",
    "# The `.env` file is created by the user and contains the API keys for the various services used in the project.\n",
    "# See https://pypi.org/project/python-dotenv/ for more information.\n",
    "\n",
    "env_path = Path.home() / 'prod-bot' / '.env'  # Adjust this path as needed\n",
    "print(env_path)\n",
    "load_dotenv(env_path)"
   ]
  },
  {
   "cell_type": "code",
   "execution_count": 5,
   "metadata": {},
   "outputs": [],
   "source": [
    "ALPACA_API_KEY=os.getenv('ALPACA_API_KEY')\n",
    "ALPACA_API_SECRET=os.getenv('ALPACA_API_SECRET')\n",
    "ALPACA_PAPER_API_KEY=os.getenv('ALPACA_PAPER_API_KEY')\n",
    "ALPACA_PAPER_API_SECRET=os.getenv('ALPACA_PAPER_API_SECRET')"
   ]
  },
  {
   "cell_type": "code",
   "execution_count": null,
   "metadata": {},
   "outputs": [],
   "source": [
    "w = venues.Alpaca(\n",
    "\tNone, ALPACA_PAPER_API_KEY, ALPACA_PAPER_API_SECRET, \n",
    "\t# trading_endpoint='https://api.alpaca.markets', \n",
    "\tdata_endpoint='https://data.alpaca.markets',\n",
    "\tstream_url='wss://stream.data.alpaca.markets/v2/iex')"
   ]
  },
  {
   "cell_type": "code",
   "execution_count": null,
   "metadata": {},
   "outputs": [],
   "source": [
    "w.mark_price('IBIT')"
   ]
  },
  {
   "cell_type": "code",
   "execution_count": null,
   "metadata": {},
   "outputs": [],
   "source": [
    "w.standard_size('IBIT', 100)"
   ]
  }
 ],
 "metadata": {
  "kernelspec": {
   "display_name": "crypto-stock",
   "language": "python",
   "name": "python3"
  },
  "language_info": {
   "codemirror_mode": {
    "name": "ipython",
    "version": 3
   },
   "file_extension": ".py",
   "mimetype": "text/x-python",
   "name": "python",
   "nbconvert_exporter": "python",
   "pygments_lexer": "ipython3",
   "version": "3.9.15"
  }
 },
 "nbformat": 4,
 "nbformat_minor": 2
}
