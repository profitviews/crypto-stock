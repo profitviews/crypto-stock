{
 "cells": [
  {
   "cell_type": "code",
   "execution_count": null,
   "metadata": {},
   "outputs": [],
   "source": [
    "import sys\n",
    "print(sys.executable)\n",
    "sys.path.append('/home/richard/profitviews/crypto-stock')"
   ]
  },
  {
   "cell_type": "code",
   "execution_count": 2,
   "metadata": {},
   "outputs": [],
   "source": [
    "from my import venues"
   ]
  },
  {
   "cell_type": "code",
   "execution_count": null,
   "metadata": {},
   "outputs": [],
   "source": [
    "from dotenv import load_dotenv\n",
    "from pathlib import Path\n",
    "import os\n",
    "\n",
    "# `dotenv` is a package that loads environment variables from a `.env` file into the environment.\n",
    "# It is used to store sensitive information like API keys in a file that is not checked into version control.\n",
    "# The `.env` file is not checked into version control, so it is not included in the repository.\n",
    "# The `.env` file is created by the user and contains the API keys for the various services used in the project.\n",
    "# See https://pypi.org/project/python-dotenv/ for more information.\n",
    "\n",
    "env_path = Path.home() / 'prod-bot' / '.env'  # Adjust this path as needed\n",
    "print(env_path)\n",
    "load_dotenv(env_path)"
   ]
  },
  {
   "cell_type": "code",
   "execution_count": 4,
   "metadata": {},
   "outputs": [],
   "source": [
    "ALPACA_API_KEY=os.getenv('ALPACA_API_KEY')\n",
    "ALPACA_API_SECRET=os.getenv('ALPACA_API_SECRET')\n",
    "ALPACA_PAPER_API_KEY=os.getenv('ALPACA_PAPER_API_KEY')\n",
    "ALPACA_PAPER_API_SECRET=os.getenv('ALPACA_PAPER_API_SECRET')"
   ]
  },
  {
   "cell_type": "code",
   "execution_count": null,
   "metadata": {},
   "outputs": [],
   "source": [
    "w = venues.Alpaca(\n",
    "\tNone, ALPACA_PAPER_API_KEY, ALPACA_PAPER_API_SECRET, \n",
    "\t# trading_endpoint='https://api.alpaca.markets', \n",
    "\tdata_endpoint='https://data.alpaca.markets')"
   ]
  },
  {
   "cell_type": "code",
   "execution_count": null,
   "metadata": {},
   "outputs": [],
   "source": [
    "w.mark_price('IBIT')"
   ]
  },
  {
   "cell_type": "code",
   "execution_count": 10,
   "metadata": {},
   "outputs": [
    {
     "name": "stderr",
     "output_type": "stream",
     "text": [
      "DEBUG:urllib3.connectionpool:Starting new HTTPS connection (1): data.alpaca.markets:443\n"
     ]
    },
    {
     "name": "stdout",
     "output_type": "stream",
     "text": [
      "Fetching quote from: https://data.alpaca.markets/v2/stocks/IBIT/quotes/latest\n",
      "send: b'GET /v2/stocks/IBIT/quotes/latest HTTP/1.1\\r\\nHost: data.alpaca.markets\\r\\nUser-Agent: python-requests/2.32.3\\r\\nAccept-Encoding: gzip, deflate\\r\\nAccept: */*\\r\\nConnection: keep-alive\\r\\nContent-Type: application/json\\r\\nAPCA-API-KEY-ID: PK1D24H7941XGBR417QH\\r\\nAPCA-API-SECRET-KEY: OCa5hMZvColZ8r1oQ6BxTq0heCoEyubkxPDXZgY5\\r\\n\\r\\n'\n"
     ]
    },
    {
     "name": "stderr",
     "output_type": "stream",
     "text": [
      "DEBUG:urllib3.connectionpool:https://data.alpaca.markets:443 \"GET /v2/stocks/IBIT/quotes/latest HTTP/1.1\" 200 137\n"
     ]
    },
    {
     "name": "stdout",
     "output_type": "stream",
     "text": [
      "reply: 'HTTP/1.1 200 OK\\r\\n'\n",
      "header: Date: Wed, 26 Feb 2025 15:39:46 GMT\n",
      "header: Content-Type: application/json; charset=UTF-8\n",
      "header: Content-Length: 137\n",
      "header: Connection: keep-alive\n",
      "header: X-Feed: iex\n",
      "header: X-Ratelimit-Limit: 200\n",
      "header: X-Ratelimit-Remaining: 199\n",
      "header: X-Ratelimit-Reset: 1740584386\n",
      "header: Strict-Transport-Security: max-age=31536000; includeSubDomains\n",
      "header: X-Request-ID: d99d0cf4f136790f3d313f21ad69358d\n",
      "header: Access-Control-Allow-Origin: *\n",
      "header: Access-Control-Allow-Credentials: true\n",
      "header: Access-Control-Allow-Methods: GET, OPTIONS\n",
      "header: Access-Control-Allow-Headers: Apca-Api-Key-Id, Apca-Api-Secret-Key, Authorization\n",
      "header: Access-Control-Max-Age: 1728000\n"
     ]
    },
    {
     "data": {
      "text/plain": [
       "2"
      ]
     },
     "execution_count": 10,
     "metadata": {},
     "output_type": "execute_result"
    }
   ],
   "source": [
    "w.standard_size('IBIT', 100)"
   ]
  },
  {
   "cell_type": "code",
   "execution_count": null,
   "metadata": {},
   "outputs": [],
   "source": [
    "try:\n",
    "    url = w.pricing_endpoint.format(symbol='IBIT')\n",
    "    response = requests.get(url, headers=w.HEADERS)\n",
    "    response.raise_for_status()\n",
    "    quote = response.json()\n",
    "    print(\"Latest quote for IBIT:\", quote)\n",
    "except Exception as e:\n",
    "    print(\"Error fetching latest quote for IBIT:\", e)\n"
   ]
  },
  {
   "cell_type": "code",
   "execution_count": null,
   "metadata": {},
   "outputs": [],
   "source": [
    "try:\n",
    "    ibit_quote_url = w.pricing_endpoint.format(symbol=\"IBIT\")\n",
    "    print(\"Fetching IBIT quote from:\", ibit_quote_url)\n",
    "    response = requests.get(ibit_quote_url, headers=w.HEADERS)\n",
    "    response.raise_for_status()\n",
    "    ibit_quote = response.json()\n",
    "    print(\"IBIT Quote:\", ibit_quote)\n",
    "except Exception as e:\n",
    "    print(\"Error fetching IBIT quote:\", e)\n"
   ]
  },
  {
   "cell_type": "code",
   "execution_count": null,
   "metadata": {},
   "outputs": [],
   "source": [
    "# Python code to calculate implied Bitcoin price from IBIT share price\n",
    "\n",
    "def calculate_implied_btc_price(share_price, total_btc_held, total_shares_outstanding):\n",
    "    \"\"\"\n",
    "    Calculate the implied Bitcoin price from IBIT share price.\n",
    "    \n",
    "    Args:\n",
    "        share_price (float): Current IBIT share price in USD\n",
    "        total_btc_held (float): Total Bitcoin held by the IBIT trust\n",
    "        total_shares_outstanding (float): Total number of IBIT shares outstanding\n",
    "    \n",
    "    Returns:\n",
    "        float: Implied Bitcoin price in USD\n",
    "    \"\"\"\n",
    "    # Calculate the Bitcoin per Share Ratio\n",
    "    btc_per_share_ratio = total_btc_held / total_shares_outstanding\n",
    "    \n",
    "    # Calculate the implied Bitcoin price\n",
    "    implied_btc_price = share_price / btc_per_share_ratio\n",
    "    \n",
    "    return implied_btc_price\n",
    "\n",
    "# Example values based on February 26, 2025 estimate\n",
    "ibit_share_price = 50.00  # Estimated IBIT share price in USD (Feb 25 X post)\n",
    "total_btc_held = 587698  # Total Bitcoin held by IBIT (as of Feb 20, 2025)\n",
    "total_shares_outstanding = 1034000000  # Total shares outstanding (1.034 billion, Feb 20, 2025)\n",
    "\n",
    "# Calculate the implied Bitcoin price\n",
    "implied_price = calculate_implied_btc_price(ibit_share_price, total_btc_held, total_shares_outstanding)\n",
    "\n",
    "# Print the result\n",
    "print(f\"IBIT Share Price: ${ibit_share_price:.2f}\")\n",
    "print(f\"Bitcoin per Share Ratio: {total_btc_held / total_shares_outstanding:.7f} BTC/share\")\n",
    "print(f\"Implied Bitcoin Price: ${implied_price:,.2f} USD/BTC\")\n",
    "\n",
    "# Optional: Compare with a known BTC price for sanity check (e.g., Feb 25 estimate)\n",
    "current_btc_price = 87000  # Approximate BTC price from X post on Feb 25\n",
    "print(f\"Estimated Market Bitcoin Price: ${current_btc_price:,.2f} USD/BTC\")\n",
    "print(f\"Difference (Premium/Discount): ${(implied_price - current_btc_price):,.2f} USD/BTC\")"
   ]
  },
  {
   "cell_type": "code",
   "execution_count": null,
   "metadata": {},
   "outputs": [],
   "source": []
  }
 ],
 "metadata": {
  "kernelspec": {
   "display_name": "crypto-stock",
   "language": "python",
   "name": "python3"
  },
  "language_info": {
   "codemirror_mode": {
    "name": "ipython",
    "version": 3
   },
   "file_extension": ".py",
   "mimetype": "text/x-python",
   "name": "python",
   "nbconvert_exporter": "python",
   "pygments_lexer": "ipython3",
   "version": "3.9.15"
  }
 },
 "nbformat": 4,
 "nbformat_minor": 2
}
