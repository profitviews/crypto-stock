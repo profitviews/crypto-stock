{
 "cells": [
  {
   "cell_type": "markdown",
   "metadata": {},
   "source": []
  },
  {
   "cell_type": "code",
   "execution_count": 2,
   "metadata": {},
   "outputs": [],
   "source": [
    "import requests\n",
    "from bs4 import BeautifulSoup\n",
    "from dotenv import load_dotenv\n",
    "import os\n",
    "from pathlib import Path\n",
    "from pprint import pprint"
   ]
  },
  {
   "cell_type": "code",
   "execution_count": 12,
   "metadata": {},
   "outputs": [],
   "source": [
    "env_path = Path.home() / 'prod-bot' / '.env'\n",
    "if not env_path.exists():\n",
    "    print(f\"Environment file not found at {env_path}\")\n",
    "else:\n",
    "    load_dotenv(env_path)"
   ]
  },
  {
   "cell_type": "code",
   "execution_count": 23,
   "metadata": {},
   "outputs": [],
   "source": [
    "def get_shares_overview(api_key, function, symbol):\n",
    "    url = f\"https://www.alphavantage.co/query?function={function}&symbol={symbol}&apikey={api_key}\"\n",
    "    return requests.get(url).json()\n"
   ]
  },
  {
   "cell_type": "code",
   "execution_count": null,
   "metadata": {},
   "outputs": [],
   "source": [
    "api_key = os.getenv(\"ALPHA_VANTAGE_API_KEY\")\n",
    "print(api_key)"
   ]
  },
  {
   "cell_type": "code",
   "execution_count": null,
   "metadata": {},
   "outputs": [],
   "source": [
    "overview = get_shares_overview(api_key, \"ETF_PROFILE\", \"IBIT\")\n",
    "pprint(overview)"
   ]
  },
  {
   "cell_type": "code",
   "execution_count": 25,
   "metadata": {},
   "outputs": [],
   "source": [
    "def get_shares_outstanding(api_key, function, symbol):\n",
    "    response = get_shares_overview(api_key, function, symbol)\n",
    "    print(response)\n",
    "    if shares_outstanding := response.get(\"SharesOutstanding\"):\n",
    "        return int(shares_outstanding)\n",
    "    else:\n",
    "        raise ValueError(\"Couldn't find Shares Outstanding data.\")"
   ]
  },
  {
   "cell_type": "code",
   "execution_count": null,
   "metadata": {},
   "outputs": [],
   "source": [
    "shares_outstanding = get_shares_outstanding(api_key, \"ETF_PROFILE\", \"QQQ\")\n",
    "print(shares_outstanding)"
   ]
  },
  {
   "cell_type": "code",
   "execution_count": null,
   "metadata": {},
   "outputs": [],
   "source": [
    "def get_ibit_btc_holdings():\n",
    "    url = \"https://treasuries.bitbo.io/blackrock-ibit/\"\n",
    "    headers = {\"User-Agent\": \"Mozilla/5.0\"}\n",
    "    response = requests.get(url, headers=headers)\n",
    "    soup = BeautifulSoup(response.text, 'html.parser')\n",
    "\n",
    "    # Extract total BTC holdings\n",
    "    btc_amount_elem = soup.select_one('h2.text-4xl.font-bold')\n",
    "    if btc_amount_elem:\n",
    "        btc_held = btc_amount_elem.text.strip().replace(',', '')\n",
    "        return float(btc_held)\n",
    "    else:\n",
    "        raise ValueError(\"Couldn't find BTC holdings data.\")"
   ]
  },
  {
   "cell_type": "code",
   "execution_count": null,
   "metadata": {},
   "outputs": [],
   "source": [
    "h = get_ibit_btc_holdings()\n",
    "\n",
    "print(h)"
   ]
  },
  {
   "cell_type": "markdown",
   "metadata": {},
   "source": [
    "To get IBIT Shares Outstanding:\n",
    "1. Go to the IBIT BlackRock product page: https://www.blackrock.com/us/individual/products/333011/\n",
    "2. Data Download: downloads an `.xls` file\n",
    "3. In that file is a section\n",
    "```xml\n",
    "<ss:Cell>\n",
    "<ss:Data ss:Type=\"String\">Shares Outstanding</ss:Data>\n",
    "</ss:Cell>\n",
    "<ss:Cell ss:StyleID=\"Right\">\n",
    "<ss:Data ss:Type=\"String\">999,200,000.00</ss:Data>\n",
    "</ss:Cell>\n",
    "```\n",
    "4. Extract the data and convert to integer - this is the Shares Outstanding "
   ]
  },
  {
   "cell_type": "code",
   "execution_count": 7,
   "metadata": {},
   "outputs": [],
   "source": [
    "import xml.etree.ElementTree as ET\n",
    "import pandas as pd\n",
    "import requests\n",
    "from bs4 import BeautifulSoup\n",
    "import io\n",
    "import csv"
   ]
  },
  {
   "cell_type": "code",
   "execution_count": 2,
   "metadata": {},
   "outputs": [],
   "source": [
    "headers = {\n",
    "    'User-Agent': 'Mozilla/5.0 (Windows NT 10.0; Win64; x64) AppleWebKit/537.36 (KHTML, like Gecko) Chrome/91.0.4472.124 Safari/537.36'\n",
    "}\n",
    "\n",
    "# Step 1: Fetch the product page\n",
    "product_url = \"https://www.ishares.com/us/products/333011/ishares-bitcoin-trust\"\n",
    "response = requests.get(product_url, headers=headers)\n",
    "if response.status_code != 200:\n",
    "    print(f\"Failed to fetch product page. Status code: {response.status_code}\")"
   ]
  },
  {
   "cell_type": "code",
   "execution_count": 3,
   "metadata": {},
   "outputs": [],
   "source": [
    "\n",
    "# Step 2: Parse HTML and find the holdings CSV link\n",
    "soup = BeautifulSoup(response.text, 'html.parser')\n",
    "holdings_link = None\n",
    "\n",
    "# Look for the specific link by class or text\n",
    "for a in soup.find_all('a', href=True):\n",
    "    if 'icon-xls-export' in a.get('class', []) or 'detailed holdings and analytics' in a.text.lower():\n",
    "        holdings_link = a['href']\n",
    "        break\n",
    "\n",
    "if not holdings_link:\n",
    "    print(\"Holdings CSV link not found. Saving product page to 'product_page.html'.\")\n",
    "    with open(\"product_page.html\", \"w\", encoding=\"utf-8\") as f:\n",
    "        f.write(response.text)\n"
   ]
  },
  {
   "cell_type": "code",
   "execution_count": null,
   "metadata": {},
   "outputs": [],
   "source": [
    "# Ensure the link is absolute\n",
    "if not holdings_link.startswith('http'):\n",
    "    holdings_link = \"https://www.ishares.com\" + holdings_link\n",
    "print(f\"Found holdings link: {holdings_link}\")\n",
    "\n",
    "# Step 3: Fetch the CSV file\n",
    "file_response = requests.get(holdings_link, headers=headers)\n",
    "if file_response.status_code != 200:\n",
    "    print(f\"Failed to download CSV file. Status code: {file_response.status_code}\")"
   ]
  },
  {
   "cell_type": "code",
   "execution_count": null,
   "metadata": {},
   "outputs": [],
   "source": [
    "# Step 4: Parse the CSV\n",
    "try:\n",
    "    # Extract Shares Outstanding from preamble using csv reader\n",
    "    preamble = file_response.text.splitlines()[:8]\n",
    "    shares_outstanding = None\n",
    "    for line in csv.reader(preamble):\n",
    "        if line and \"Shares Outstanding\" in line[0]:\n",
    "            shares_outstanding = line[1].strip('\"')\n",
    "            break\n",
    "    if shares_outstanding:\n",
    "        print(f\"Shares Outstanding: {shares_outstanding}\")\n",
    "    else:\n",
    "        print(\"Shares Outstanding not found in CSV preamble.\")\n",
    "\n",
    "    # Parse holdings table, skipping 9 rows to start at headers\n",
    "    df = pd.read_csv(io.StringIO(file_response.text), skiprows=9)\n",
    "    \n",
    "    # Extract BTC Held from Quantity column\n",
    "    btc_row = df[df['Ticker'] == 'BTC']\n",
    "    if not btc_row.empty:\n",
    "        btc_held = btc_row['Quantity'].values[0]\n",
    "        print(f\"BTC Held: {btc_held}\")\n",
    "    else:\n",
    "        print(\"BTC not found in holdings table.\")\n",
    "\n",
    "except Exception as e:\n",
    "    print(f\"Failed to parse CSV: {e}\")\n",
    "    with open(\"holdings_response.csv\", \"w\", encoding=\"utf-8\") as f:\n",
    "        f.write(file_response.text)\n",
    "    print(\"Saved CSV to 'holdings_response.csv' for inspection.\")"
   ]
  },
  {
   "cell_type": "markdown",
   "metadata": {},
   "source": [
    "To get total BTC held:\n",
    "1. Use the Alpha Vantage API's `ETF_PROFILE` function on `IBIT`\n",
    "2. Extract `net_assets`\n",
    "3. Get the current `BTC/USD` price\n",
    "4. Total `BTC` is `net_assets`/`BTC/USD` price"
   ]
  }
 ],
 "metadata": {
  "kernelspec": {
   "display_name": "crypto-stock",
   "language": "python",
   "name": "python3"
  },
  "language_info": {
   "codemirror_mode": {
    "name": "ipython",
    "version": 3
   },
   "file_extension": ".py",
   "mimetype": "text/x-python",
   "name": "python",
   "nbconvert_exporter": "python",
   "pygments_lexer": "ipython3",
   "version": "3.9.15"
  }
 },
 "nbformat": 4,
 "nbformat_minor": 2
}
